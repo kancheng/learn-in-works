{
  "nbformat": 4,
  "nbformat_minor": 0,
  "metadata": {
    "colab": {
      "name": "py-test",
      "provenance": [],
      "collapsed_sections": []
    },
    "kernelspec": {
      "name": "python3",
      "display_name": "Python 3"
    },
    "language_info": {
      "name": "python"
    }
  },
  "cells": [
    {
      "cell_type": "code",
      "execution_count": 92,
      "metadata": {
        "id": "X03HAK0P1pw_",
        "colab": {
          "base_uri": "https://localhost:8080/"
        },
        "outputId": "a5821642-f046-455e-f15f-f81337dc6bc7"
      },
      "outputs": [
        {
          "output_type": "stream",
          "name": "stdout",
          "text": [
            "[0, 1]\n",
            "0.0011450630\n",
            "[0, 1]\n",
            "0.0005360680\n",
            "[0, 1]\n",
            "0.0005196110\n"
          ]
        }
      ],
      "source": [
        "import timeit\n",
        "\n",
        "def as_num(x):\n",
        "    y = '{:.10f}'.format(x)  # .10f 保留10位小数\n",
        "    return y\n",
        "\n",
        "s = \"\"\"\n",
        "class Solution(object):\n",
        "   def twoSum(self, nums, target):\n",
        "      required = {}\n",
        "      for i in range(len(nums)):\n",
        "         if target - nums[i] in required:\n",
        "            return [required[target - nums[i]],i]\n",
        "         else:\n",
        "            required[nums[i]]=i\n",
        "input_list = [ 2, 7, 11, 15]\n",
        "target = 9\n",
        "ob1 = Solution()\n",
        "print(ob1.twoSum(input_list, target))\n",
        "\"\"\"\n",
        "\n",
        "k = \"\"\"\n",
        "class Solution(object):\n",
        "   def twoSum(self, nums, target):\n",
        "      for i in range(len(nums)):\n",
        "         tmp = nums[i]\n",
        "         remain = nums[i+1:]\n",
        "         if target - tmp in remain:\n",
        "                return[i, remain.index(target - tmp)+ i + 1]\n",
        "input_list = [ 2, 7, 11, 15]\n",
        "target = 9\n",
        "ob1 = Solution()\n",
        "print(ob1.twoSum(input_list, target))\n",
        "\"\"\"\n",
        "c = \"\"\"\n",
        "class Solution(object):\n",
        "    def twoSum(self, nums, target):\n",
        "        dict = {}\n",
        "        for i in range(len(nums)):\n",
        "            if target - nums[i] not in dict:\n",
        "                dict[nums[i]] = i\n",
        "            else:\n",
        "                return [dict[target - nums[i]], i]\n",
        "input_list = [ 2, 7, 11, 15]\n",
        "target = 9\n",
        "ob1 = Solution()\n",
        "print(ob1.twoSum(input_list, target))\n",
        "\"\"\"\n",
        "t1 = timeit.Timer(stmt=s)\n",
        "print(as_num(t1.timeit(number=1)))\n",
        "t2 = timeit.Timer(stmt=k)\n",
        "print(as_num(t2.timeit(number=1)))\n",
        "t3 = timeit.Timer(stmt=c)\n",
        "print(as_num(t3.timeit(number=1)))"
      ]
    }
  ]
}